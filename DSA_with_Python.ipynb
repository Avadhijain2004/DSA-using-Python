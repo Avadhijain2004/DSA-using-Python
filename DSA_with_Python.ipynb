{
 "cells": [
  {
   "cell_type": "markdown",
   "id": "ce37d3fd",
   "metadata": {},
   "source": [
    "# Data Structures and Algorithms using Python"
   ]
  },
  {
   "cell_type": "markdown",
   "id": "585cb5be",
   "metadata": {},
   "source": [
    "**Data Structures:** Data structures are the way to store and organize data efficiently."
   ]
  },
  {
   "cell_type": "markdown",
   "id": "b7ec5c49",
   "metadata": {},
   "source": [
    "# Strategy To Solve Problems"
   ]
  },
  {
   "cell_type": "markdown",
   "id": "c5ed6b0e",
   "metadata": {},
   "source": [
    "A systematic strategy we'll apply for solving problems:\n",
    "\n",
    "1. State the problem clearly. Identify the input & output formats\n",
    "2. Come up with some example inputs & outputs. Try to cover all edge cases.\n",
    "3. Come up with a correct solution for the problem. State it in plain English.\n",
    "4. Implement the solution and test it using example inputs. Fix bugs, if any.\n",
    "5. Analyze the algorithm's complexity and identify inefficiencies, if any.\n",
    "6. Apply the right technique to overcome the inefficiency. Repeat steps 3 to 6."
   ]
  },
  {
   "cell_type": "markdown",
   "id": "6dcbc5c6",
   "metadata": {},
   "source": [
    "# Complexity of Algorithms"
   ]
  },
  {
   "cell_type": "markdown",
   "id": "a5b95328",
   "metadata": {},
   "source": [
    "Efficiency of Algorithm can be measured in the form of time and space complexity\n",
    "\n",
    "1. Time complexity: Total time required by an algorithm for its successful execution\n",
    "2. Space complexity: Total space required by an algorithm for its successful execution"
   ]
  },
  {
   "cell_type": "markdown",
   "id": "36e1e6ca",
   "metadata": {},
   "source": [
    "# Time Complexity"
   ]
  },
  {
   "cell_type": "markdown",
   "id": "15849471",
   "metadata": {},
   "source": [
    "**Techniques to measure time complexity:**\n",
    "\n",
    "1. Measure execution time\n",
    "2. Count operations involved\n",
    "3. Abstract notation of order of growth (Asymptotic Notation)"
   ]
  },
  {
   "cell_type": "markdown",
   "id": "9becafc5",
   "metadata": {},
   "source": [
    "**1. Measuring Execution Time**"
   ]
  },
  {
   "cell_type": "code",
   "execution_count": 1,
   "id": "1f203f78",
   "metadata": {},
   "outputs": [
    {
     "name": "stdout",
     "output_type": "stream",
     "text": [
      "1 2 3 4 5 6 7 8 9 10 11 12 13 14 15 16 17 18 19 20 21 22 23 24 25 26 27 28 29 30 31 32 33 34 35 36 37 38 39 40 41 42 43 44 45 46 47 48 49 50 51 52 53 54 55 56 57 58 59 60 61 62 63 64 65 66 67 68 69 70 71 72 73 74 75 76 77 78 79 80 81 82 83 84 85 86 87 88 89 90 91 92 93 94 95 96 97 98 99 100 \n",
      "\n",
      "0.010639190673828125\n"
     ]
    }
   ],
   "source": [
    "import time\n",
    "\n",
    "start = time.time()\n",
    "\n",
    "for i in range(1,101):\n",
    "    print(i,end =\" \")\n",
    "print('\\n')    \n",
    "print(time.time()-start)"
   ]
  },
  {
   "cell_type": "markdown",
   "id": "19e58026",
   "metadata": {},
   "source": [
    "**Problem with this approach:**\n",
    "\n",
    "1. Inconsistency\n",
    "2. Minor changes in implementation keeping logic same, can cause change in execution time\n",
    "3. Does not work for extremely small inputs\n",
    "4. Time varies for different inputs, but cannot establish a relationship between input and time "
   ]
  },
  {
   "cell_type": "markdown",
   "id": "73c79a72",
   "metadata": {},
   "source": [
    "**2. Count Operations**"
   ]
  },
  {
   "cell_type": "code",
   "execution_count": 2,
   "id": "09d4e111",
   "metadata": {},
   "outputs": [],
   "source": [
    "x=20\n",
    "total = 0\n",
    "for i in range(x+1):\n",
    "    total += i"
   ]
  },
  {
   "cell_type": "markdown",
   "id": "0d333e62",
   "metadata": {},
   "source": [
    "Number of operations will be (T) = 1 + 1 + 3x = 2 + 3x, where x = input\n",
    "\n",
    "Hence, T = 2 + 3x\n",
    "\n",
    "**Advantages**\n",
    "\n",
    "1. Different time for different algorithm \n",
    "2. Different machines same time\n",
    "3. Establishes relationship between time and input\n",
    "\n",
    "**Problems with this approach**\n",
    "\n",
    "1. Time varies if implementation changes\n",
    "2. No clear definition of which operation to count "
   ]
  },
  {
   "cell_type": "markdown",
   "id": "72579918",
   "metadata": {},
   "source": [
    "                                       "
   ]
  },
  {
   "cell_type": "markdown",
   "id": "cb1f85c3",
   "metadata": {},
   "source": [
    "**3. Abstract notation of Order of Growth**\n",
    "\n",
    "Goals:\n",
    "\n",
    "■ want to evaluate program's efficiency when input is very big\n",
    "\n",
    "■ want to express the growth of program's run time as input size grows\n",
    "\n",
    "■ want to put an upper bound on growth as tight as possible\n",
    "\n",
    "■ do not need to be precise: \"order of\" not \"exact\" growth\n",
    "\n",
    "■ we will look at largest factors in run time (which section of the program will take the longest to run?)\n",
    "\n",
    "■ thus, generally we want tight upper bound on growth, as function of size of input in worst case."
   ]
  },
  {
   "cell_type": "markdown",
   "id": "05f85d50",
   "metadata": {},
   "source": [
    "**Examples**\n",
    "\n",
    "1. n^2 + 2n + 2 = O(n^2)\n",
    "\n",
    "2. n^2 + 100000n + 3^1000 = O(n^2) \n",
    "\n",
    "3. log(n) + n + 4 = O(n)\n",
    "\n",
    "4. 0.0001 * n*log(n) + 300n = O(nlogn)\n",
    "\n",
    "5. 2n^30 + 3^n = O(3^n)\n",
    "\n",
    "\n",
    "**Order of growth can be** = Linear, constant, quadratic, exponential, polynomial, logarithmic, nlogn"
   ]
  },
  {
   "cell_type": "markdown",
   "id": "0339d809",
   "metadata": {},
   "source": [
    "**1. Constant** = Accessing of array elements using index  (Time does not depend on input)\n",
    "\n",
    "**2. Logarithmic** = Binary Search\n",
    "\n",
    "**3. Linear** = Searching of array elements linearly\n",
    "\n",
    "**4. nlogn** = Merge Sort, Quick sort, Heap sort\n",
    "\n",
    "**5. Quadratic** = Program having 2 nested loops, Bubble sort, Insertion sort, Selection sort\n",
    "\n",
    "**6. Exponential** = Fibonacci Series\n"
   ]
  },
  {
   "cell_type": "markdown",
   "id": "e7ce9efb",
   "metadata": {},
   "source": [
    "# Practice questions on Time complexity"
   ]
  },
  {
   "cell_type": "markdown",
   "id": "e706e5b2",
   "metadata": {},
   "source": [
    "**Problem 1**"
   ]
  },
  {
   "cell_type": "code",
   "execution_count": null,
   "id": "68b46e1a",
   "metadata": {},
   "outputs": [
    {
     "name": "stdout",
     "output_type": "stream",
     "text": [
      "15\n",
      "120\n"
     ]
    }
   ],
   "source": [
    "L = [1,2,3,4,5]\n",
    "\n",
    "sum = 0 \n",
    "for i in L:\n",
    "    sum = sum + i\n",
    "print(sum)\n",
    "\n",
    "product = 1\n",
    "for i in L:\n",
    "    product = product * i\n",
    "print(product)"
   ]
  },
  {
   "cell_type": "markdown",
   "id": "20b17926",
   "metadata": {},
   "source": [
    "**Time Complexity = O(n)**"
   ]
  },
  {
   "cell_type": "markdown",
   "id": "66eecec6",
   "metadata": {},
   "source": [
    "**Problem 2**"
   ]
  },
  {
   "cell_type": "code",
   "execution_count": 2,
   "id": "08284bd9",
   "metadata": {},
   "outputs": [
    {
     "name": "stdout",
     "output_type": "stream",
     "text": [
      "(1,1)\n",
      "(1,2)\n",
      "(1,3)\n",
      "(1,4)\n",
      "(1,5)\n",
      "(2,1)\n",
      "(2,2)\n",
      "(2,3)\n",
      "(2,4)\n",
      "(2,5)\n",
      "(3,1)\n",
      "(3,2)\n",
      "(3,3)\n",
      "(3,4)\n",
      "(3,5)\n",
      "(4,1)\n",
      "(4,2)\n",
      "(4,3)\n",
      "(4,4)\n",
      "(4,5)\n",
      "(5,1)\n",
      "(5,2)\n",
      "(5,3)\n",
      "(5,4)\n",
      "(5,5)\n"
     ]
    }
   ],
   "source": [
    "L = [1,2,3,4,5]\n",
    "\n",
    "for i in L:\n",
    "    for j in L:\n",
    "        print('({},{})'.format(i,j))"
   ]
  },
  {
   "cell_type": "markdown",
   "id": "f8df0947",
   "metadata": {},
   "source": [
    "**Time complexity = O(n^2)**"
   ]
  },
  {
   "cell_type": "markdown",
   "id": "4bc3cd9b",
   "metadata": {},
   "source": [
    "**Problem 3: Linear Search**"
   ]
  },
  {
   "cell_type": "code",
   "execution_count": 4,
   "id": "f095ab0f",
   "metadata": {},
   "outputs": [
    {
     "name": "stdout",
     "output_type": "stream",
     "text": [
      "Enter a value to be searched: 5\n",
      "Element is present at index  5\n"
     ]
    }
   ],
   "source": [
    "def linearSearch(L,value):\n",
    "    for i in range(len(L)):\n",
    "        if L[i] == value:\n",
    "            return i\n",
    "    return -1\n",
    "\n",
    "L = [1,2,3,4,5,6,7,8,9,10]\n",
    "value = int(input(\"Enter a value to be searched: \"))\n",
    "result = linearSearch(L,value)\n",
    "if result != -1:\n",
    "    print(\"Element is present at index \",result+1)\n",
    "else:\n",
    "    print(\"Element is not present\")"
   ]
  },
  {
   "cell_type": "markdown",
   "id": "49e42a44",
   "metadata": {},
   "source": [
    "**Time Complexity = O(n)**"
   ]
  },
  {
   "cell_type": "markdown",
   "id": "36fa5003",
   "metadata": {},
   "source": [
    "**Problem 4**"
   ]
  },
  {
   "cell_type": "code",
   "execution_count": null,
   "id": "3b146e71",
   "metadata": {},
   "outputs": [],
   "source": [
    "def intToStr(i):\n",
    "    digits = '0123456789'\n",
    "    if i == 0:\n",
    "        return '0'\n",
    "    \n",
    "    result = ''\n",
    "    while i > 0:\n",
    "        result = digits[i%10] + result\n",
    "        i = i//10\n",
    "    return result\n",
    "\n",
    "print(type(123))\n",
    "print(intToStr(123))\n",
    "print(type(intToStr(123)))"
   ]
  },
  {
   "cell_type": "markdown",
   "id": "d15c5e48",
   "metadata": {},
   "source": [
    "**Time complexity = O(log n)** (because after every iteration the input space is divided into smaller space)"
   ]
  },
  {
   "cell_type": "markdown",
   "id": "8ef32cd5",
   "metadata": {},
   "source": [
    "**Problem 5**"
   ]
  },
  {
   "cell_type": "code",
   "execution_count": null,
   "id": "d2708f98",
   "metadata": {},
   "outputs": [],
   "source": [
    "n = 1000\n",
    "\n",
    "int i,j,k = 0\n",
    "\n",
    "for(i=n/2;i<=n;i++){\n",
    "    for(j=2;j<=n;j-j*2){\n",
    "        k=k+n/2\n",
    "    }\n",
    "}"
   ]
  },
  {
   "cell_type": "markdown",
   "id": "a1dcaf1b",
   "metadata": {},
   "source": [
    "**Time complexity = O(nlogn)**\n",
    "\n",
    "because outer loop is executing (n/2) times and inner loop (log n) times\n",
    "So, O(n/2) * O(log n) = O(n/2 * log n) = O(1/2 * nlogn) = O(nlogn)\n",
    "\n",
    "**Working of inner loop**\n",
    "1. if n = 10, inner loop will execute for 2,4,8\n",
    "\n",
    "2. if n = 100, inner loop will execute for 2,4,8,16,32,64\n",
    "\n",
    "3. if n = 1000, inner loop will execute for 2,4,8,16,32,64,128,256,512\n",
    "\n",
    "which is the property of log"
   ]
  },
  {
   "cell_type": "markdown",
   "id": "1e4854de",
   "metadata": {},
   "source": [
    "**Problem 6: Binary Search**"
   ]
  },
  {
   "cell_type": "code",
   "execution_count": 5,
   "id": "40003144",
   "metadata": {},
   "outputs": [
    {
     "name": "stdout",
     "output_type": "stream",
     "text": [
      "Enter the element: 2\n",
      "Element is present at position 1\n"
     ]
    }
   ],
   "source": [
    "def binary_search(arr, x):\n",
    "    low = 0\n",
    "    high = len(arr) - 1\n",
    "    mid = 0\n",
    " \n",
    "    while low <= high:\n",
    " \n",
    "        mid = (high + low) // 2\n",
    "        if arr[mid] < x:\n",
    "            low = mid + 1\n",
    "        elif arr[mid] > x:\n",
    "            high = mid - 1\n",
    "        else:\n",
    "            return mid\n",
    "    return -1\n",
    "\n",
    "arr = [ 2, 3, 4, 10, 40 ]\n",
    "x = int(input(\"Enter the element: \"))\n",
    "result = binary_search(arr, x)\n",
    " \n",
    "if result != -1:\n",
    "    print(\"Element is present at position\", str(result+1))\n",
    "else:\n",
    "    print(\"Element is not present in array\")"
   ]
  },
  {
   "cell_type": "markdown",
   "id": "9ea555e1",
   "metadata": {},
   "source": [
    "**Time complexity = O(logn)**"
   ]
  },
  {
   "cell_type": "markdown",
   "id": "35c72e3c",
   "metadata": {},
   "source": [
    "**Problem 7**"
   ]
  },
  {
   "cell_type": "code",
   "execution_count": null,
   "id": "5c8b699b",
   "metadata": {},
   "outputs": [],
   "source": [
    "L = [1,2,3,4,5]\n",
    "\n",
    "for i in range(0,len(L)):\n",
    "    for j in (i+1,len(L)):\n",
    "        print('({},{})'.format(L[i],L[j]))"
   ]
  },
  {
   "cell_type": "markdown",
   "id": "638506b2",
   "metadata": {},
   "source": [
    "**Time complexity = O(n^2)**"
   ]
  },
  {
   "cell_type": "markdown",
   "id": "395dd457",
   "metadata": {},
   "source": [
    "**Problem 8**"
   ]
  },
  {
   "cell_type": "code",
   "execution_count": null,
   "id": "6c4e3d80",
   "metadata": {},
   "outputs": [],
   "source": [
    "A = [1,2,3,4]\n",
    "B= [2,3,4,5,6]\n",
    "for i in A:\n",
    "    for j in B:\n",
    "        if i<j:\n",
    "            print('({},{})'.format(i,j))"
   ]
  },
  {
   "cell_type": "markdown",
   "id": "0c9bef95",
   "metadata": {},
   "source": [
    "**Time Complexity = O(n^2)** = O(ab)"
   ]
  },
  {
   "cell_type": "markdown",
   "id": "0ad73abf",
   "metadata": {},
   "source": [
    "**Problem 9**"
   ]
  },
  {
   "cell_type": "code",
   "execution_count": null,
   "id": "035e8b1b",
   "metadata": {},
   "outputs": [],
   "source": [
    "A = [1,2,3,4]\n",
    "B= [2,3,4,5]\n",
    "for i in A:\n",
    "    for j in B:\n",
    "        if i<j:\n",
    "            for k in range(100000):\n",
    "                print('({},{})'.format(i,j))"
   ]
  },
  {
   "cell_type": "markdown",
   "id": "88da65a9",
   "metadata": {},
   "source": [
    "**Time Complexity = O(n^2)**"
   ]
  },
  {
   "cell_type": "markdown",
   "id": "01e8a6e6",
   "metadata": {},
   "source": [
    "**Problem 10**"
   ]
  },
  {
   "cell_type": "code",
   "execution_count": null,
   "id": "d4e2c236",
   "metadata": {},
   "outputs": [],
   "source": [
    "L= [1,2,3,4,5]\n",
    "\n",
    "for i in range(0,len(L)//2):\n",
    "    other = len(L)-i-1\n",
    "    temp = L[i]\n",
    "    L[i] = L[other]\n",
    "    L[other] = temp\n",
    "\n",
    "print(L)"
   ]
  },
  {
   "cell_type": "markdown",
   "id": "5f767c3d",
   "metadata": {},
   "source": [
    "**Time Complexity = O(n)**"
   ]
  },
  {
   "cell_type": "markdown",
   "id": "12b9a5e3",
   "metadata": {},
   "source": [
    "**Problem 11**"
   ]
  },
  {
   "cell_type": "code",
   "execution_count": null,
   "id": "15d6505e",
   "metadata": {},
   "outputs": [],
   "source": [
    "def factorial(n):\n",
    "    if n == 1:\n",
    "        return 1\n",
    "    else:\n",
    "        return n*factorial(n-1)\n",
    "\n",
    "print(factorial(5))"
   ]
  },
  {
   "cell_type": "markdown",
   "id": "9cf63647",
   "metadata": {},
   "source": [
    "**Time Complexity = O(n)**"
   ]
  },
  {
   "cell_type": "markdown",
   "id": "3e518a92",
   "metadata": {},
   "source": [
    "**Problem 12**"
   ]
  },
  {
   "cell_type": "code",
   "execution_count": null,
   "id": "c1544766",
   "metadata": {},
   "outputs": [],
   "source": [
    "def fib(n):\n",
    "    if n ==1 or n == 0:\n",
    "        return 1\n",
    "    else:\n",
    "        return fib(n-1) + fib(n-2)"
   ]
  },
  {
   "cell_type": "markdown",
   "id": "17470d28",
   "metadata": {},
   "source": [
    "**Time Complexity = O(2^n)** \n",
    "\n",
    "It is approximately O(2^n), exactly it is O(1.7^n)"
   ]
  },
  {
   "cell_type": "markdown",
   "id": "c1ac9953",
   "metadata": {},
   "source": [
    "**Problem 13**"
   ]
  },
  {
   "cell_type": "code",
   "execution_count": null,
   "id": "68d57441",
   "metadata": {},
   "outputs": [],
   "source": [
    "def power(num):\n",
    "    if num < 1:\n",
    "        return 0\n",
    "    elif num ==1:\n",
    "        print(1)\n",
    "        return 1\n",
    "    else:\n",
    "        prev = power(num//2)\n",
    "        curr = prev*2\n",
    "        print(curr)\n",
    "        return curr"
   ]
  },
  {
   "cell_type": "markdown",
   "id": "e51dd18c",
   "metadata": {},
   "source": [
    "**Time Complexity = O(logn)**"
   ]
  },
  {
   "cell_type": "markdown",
   "id": "c999f0ee",
   "metadata": {},
   "source": [
    "**Problem 14**"
   ]
  },
  {
   "cell_type": "code",
   "execution_count": null,
   "id": "63796682",
   "metadata": {},
   "outputs": [],
   "source": [
    "def mod(a,b):\n",
    "    if b <= 0:\n",
    "        return -1\n",
    "    div = a//b\n",
    "    return a- div *b\n",
    "\n",
    "mod(5,3)"
   ]
  },
  {
   "cell_type": "markdown",
   "id": "53acae6d",
   "metadata": {},
   "source": [
    "**Time Complexity = O(constant)**"
   ]
  },
  {
   "cell_type": "markdown",
   "id": "c201b49a",
   "metadata": {},
   "source": [
    "**Problem 15**"
   ]
  },
  {
   "cell_type": "code",
   "execution_count": null,
   "id": "7f9aecc6",
   "metadata": {},
   "outputs": [],
   "source": [
    "def sum_digits(num):\n",
    "    sum = 0\n",
    "    while (num > 0):\n",
    "        sum = int(sum + num%10 )\n",
    "        num/=10\n",
    "    return sum\n",
    "\n",
    "sum_digits(123)"
   ]
  },
  {
   "cell_type": "markdown",
   "id": "86e68a88",
   "metadata": {},
   "source": [
    "**Time Complexity = O(logn)**"
   ]
  },
  {
   "cell_type": "markdown",
   "id": "ae99af90",
   "metadata": {},
   "source": [
    "**Problem 16**\n",
    "\n",
    "T(n) = {3T(n-1), if n>0\n",
    "\n",
    "      1, otherwise}\n",
    "         \n",
    "**Time Complexity = O(3^n)**"
   ]
  },
  {
   "cell_type": "markdown",
   "id": "b3b5859c",
   "metadata": {},
   "source": [
    "**Problem 17**\n",
    "\n",
    "T(n) = {2T(n-1)-1, if n>0\n",
    "\n",
    "      1, otherwise}\n",
    "      \n",
    "**Time Complexity = O(constant)**\n",
    "\n",
    "understand this by solving manully using substitution method\n"
   ]
  },
  {
   "cell_type": "markdown",
   "id": "25e1cfed",
   "metadata": {},
   "source": [
    "**Problem 18**\n",
    "\n",
    "Generating power set\n",
    "\n",
    "{1,2} = {},{1},{2},{1,2}\n",
    "\n",
    "**Time Complexity = O(2^n)**"
   ]
  },
  {
   "cell_type": "markdown",
   "id": "d32a60e1",
   "metadata": {},
   "source": [
    "# Concept - Binary Search"
   ]
  },
  {
   "cell_type": "markdown",
   "id": "9f3db555",
   "metadata": {},
   "source": [
    "Problem:\n",
    "\n",
    "Alice has some cards with numbers written on them. She arranges the cards in decreasing order, and lays them out face down in a sequence on a table. She challenges Bob to pick out the card containing a given number by turning over as few cards as possible. Write a function to help Bob locate the card."
   ]
  },
  {
   "cell_type": "code",
   "execution_count": 6,
   "id": "1cd789b5",
   "metadata": {},
   "outputs": [
    {
     "name": "stdout",
     "output_type": "stream",
     "text": [
      "Enter the card value to be searched: 3\n",
      "Card is present at position 7\n"
     ]
    }
   ],
   "source": [
    "def binarySearch(cards,beg,end,value):\n",
    "    if end>=beg:\n",
    "        mid = (beg+end)//2\n",
    "        if cards[mid]==value:\n",
    "            return mid\n",
    "        elif cards[mid]<value:\n",
    "            return binarySearch(cards,beg,mid-1,value)\n",
    "        else:\n",
    "            return binarySearch(cards,mid+1,end,value)\n",
    "    else:\n",
    "        return -1\n",
    "\n",
    "\n",
    "\n",
    "cards = [9,8,7,6,5,4,3,2,1]\n",
    "number = len(cards)\n",
    "value = int(input(\"Enter the card value to be searched: \"))\n",
    "result = binarySearch(cards,0,number-1,value)\n",
    "if result != -1:\n",
    "    print(\"Card is present at position\", str(result+1))\n",
    "else:\n",
    "    print(\"Card is not present in array\")"
   ]
  },
  {
   "cell_type": "markdown",
   "id": "6aa9a7bc",
   "metadata": {},
   "source": [
    "# Arrays "
   ]
  },
  {
   "cell_type": "markdown",
   "id": "6c4b7d4e",
   "metadata": {},
   "source": [
    "Arrays are the linear data structures, used to store multiple items of same type in the continuous memory locations.\n",
    "\n",
    "Disadvantages of arrays:\n",
    "\n",
    "1. Fixed size (Wastage of memory)\n",
    "2. Homogeneous (Lack of flexibility)\n",
    "\n",
    "To solve the problem of homogeniety, there is a concept known as **Referential Arrays.**\n",
    "\n",
    "**Referential Arrays**\n",
    "\n",
    "**List** in Python is known as Referential arrays, which are used to store heterogeneous data.\n",
    "\n",
    "Drawbacks of Referential Arrays:\n",
    "\n",
    "1. Slow in speed\n",
    "2. Takes extra memory\n",
    "\n",
    "\n",
    "Now, to solve the problem of fixed size in arrays, there is a concept known as **Dynamic Arrays**\n",
    "\n",
    "**Dynamic Arrays**\n",
    "\n",
    "**Lists** in Python are an example of Dyanamic Arrays, whose size is adjustable according to the user's needs."
   ]
  },
  {
   "cell_type": "markdown",
   "id": "bff77058",
   "metadata": {},
   "source": [
    "# How to implement List and List operations in Python"
   ]
  },
  {
   "cell_type": "markdown",
   "id": "b3100556",
   "metadata": {},
   "source": [
    "**Operations on List**\n",
    "\n",
    "1. create list\n",
    "2. len() of list\n",
    "3. append()\n",
    "4. print()\n",
    "5. indexing\n",
    "6. pop()\n",
    "7. clear()\n",
    "8. find()\n",
    "9. insert()\n",
    "10. delete()\n",
    "11. remove()"
   ]
  },
  {
   "cell_type": "markdown",
   "id": "8fe3f715",
   "metadata": {},
   "source": [
    "**Proof of Dynamic behaviour of Lists in Python**"
   ]
  },
  {
   "cell_type": "code",
   "execution_count": 7,
   "id": "b046d3da",
   "metadata": {},
   "outputs": [
    {
     "name": "stdout",
     "output_type": "stream",
     "text": [
      "0 56\n",
      "1 88\n",
      "2 88\n",
      "3 88\n",
      "4 88\n",
      "5 120\n",
      "6 120\n",
      "7 120\n",
      "8 120\n",
      "9 184\n",
      "10 184\n",
      "11 184\n",
      "12 184\n",
      "13 184\n",
      "14 184\n",
      "15 184\n",
      "16 184\n",
      "17 248\n",
      "18 248\n",
      "19 248\n",
      "20 248\n",
      "21 248\n",
      "22 248\n",
      "23 248\n",
      "24 248\n",
      "25 312\n",
      "26 312\n",
      "27 312\n",
      "28 312\n",
      "29 312\n",
      "30 312\n",
      "31 312\n",
      "32 312\n",
      "33 376\n",
      "34 376\n",
      "35 376\n",
      "36 376\n",
      "37 376\n",
      "38 376\n",
      "39 376\n",
      "40 376\n",
      "41 472\n",
      "42 472\n",
      "43 472\n",
      "44 472\n",
      "45 472\n",
      "46 472\n",
      "47 472\n",
      "48 472\n",
      "49 472\n",
      "50 472\n"
     ]
    }
   ],
   "source": [
    "import sys\n",
    "l = []\n",
    "for i in range(51):\n",
    "    print(i,sys.getsizeof(l))\n",
    "    l.append(i)"
   ]
  },
  {
   "cell_type": "markdown",
   "id": "3b2521db",
   "metadata": {},
   "source": [
    "**Implementation of Lists**"
   ]
  },
  {
   "cell_type": "code",
   "execution_count": 9,
   "id": "9885c62d",
   "metadata": {},
   "outputs": [],
   "source": [
    "import ctypes  #ctypes library is used to use C datatypes in python\n",
    "\n",
    "class Meralist:\n",
    "    def __init__(self):\n",
    "        self.size = 1  # size variable is representing size of list\n",
    "        self.n = 0     # n variable is for representing number of items in list\n",
    "\n",
    "        # Create a C type array with size = self.size\n",
    "        self.A = self.__make_array(self.size)\n",
    "    \n",
    "    # return length of the array\n",
    "    def __len__(self):\n",
    "        return self.n\n",
    "    \n",
    "    # to print the list\n",
    "    def __str__(self):\n",
    "        # [1,2,3]\n",
    "        result = \"\"\n",
    "        for i in range(self.n):\n",
    "            result = result + str(self.A[i]) + \",\"\n",
    "        \n",
    "        return '[' + result[:-1] + ']'\n",
    "           \n",
    "    # for indexing\n",
    "    def __getitem__(self,index):\n",
    "        if 0<= index < self.n:\n",
    "            return self.A[index]\n",
    "        else:\n",
    "            return 'IndexError - Index out of range'\n",
    "        \n",
    "    # for deleting element by giving positon\n",
    "    def __delitem__(self,pos):\n",
    "        #delete\n",
    "        if 0 <= pos < self.n:\n",
    "            for i in range(pos,self.n-1):\n",
    "                self.A[i]= self.A[i+1]\n",
    "            self.n = self.n - 1 \n",
    "            \n",
    "    # appends value at the end of array\n",
    "    def append(self,item):\n",
    "        if self.n == self.size:\n",
    "            #resize\n",
    "            self.__resize(self.size*2)\n",
    "        #append\n",
    "        self.A[self.n] = item\n",
    "        self.n = self.n + 1\n",
    "        \n",
    "    # function for pop(to delete the last item of the array)\n",
    "    def pop(self):\n",
    "        if self.n == 0:\n",
    "            return \"EmptyList\"\n",
    "        print(self.A[self.n-1])\n",
    "        self.n = self.n - 1\n",
    "        \n",
    "    # function to clear list items (to make list empty)\n",
    "    def clear(self):\n",
    "        self.n = 0\n",
    "        self.size = 1 \n",
    "        \n",
    "    #function for finding position of items\n",
    "    def find(self,item):\n",
    "        for i in range(self.n):\n",
    "            if self.A[i]==item:\n",
    "                return i\n",
    "        return 'ValueError - value not in list'\n",
    "    \n",
    "    #fuction to insert value at given position in array\n",
    "    def insert(self,pos,item):\n",
    "        if self.n == self.size:\n",
    "            self.__resize(self.size*2)\n",
    "        for i in range(self.n,pos,-1):\n",
    "            self.A[i] = self.A[i-1]\n",
    "            \n",
    "        self.A[pos] = item\n",
    "        self.n = self.n + 1\n",
    "        \n",
    "    # for removing any value from the array\n",
    "    def remove(self,item):\n",
    "        pos = self.find(item)\n",
    "        \n",
    "        if type(pos)==int:\n",
    "            #delete\n",
    "            self.__delitem__(pos)\n",
    "        else:\n",
    "            return pos\n",
    "        \n",
    "    #for sorting\n",
    "    def sort(self):\n",
    "        for i in range(self.n):\n",
    "            for j in range(0, self.n - i - 1):\n",
    "                if self.A[j] > self.A[j + 1]:\n",
    "                    # Swap elements if they are in the wrong order\n",
    "                    self.A[j], self.A[j + 1] = self.A[j + 1], self.A[j]\n",
    "        print(self.A)\n",
    "        \n",
    "    #for finding minimum \n",
    "    def min(self):\n",
    "        self.sort()\n",
    "        return self.A[0]\n",
    "    \n",
    "    #for finding maximum\n",
    "    def max(self):\n",
    "        self.sort()\n",
    "        return self.A[self.n-1]\n",
    "    \n",
    "    #for finding sum of all elements in the array\n",
    "    def sum(self):\n",
    "        sumation = 0\n",
    "        for i in range(self.n):\n",
    "            sumation += self.A[i]\n",
    "        print(sumation)\n",
    "        \n",
    "    def __resize(self,new_capacity):\n",
    "        #creates a new array with new capacity\n",
    "        B = self.__make_array(new_capacity)\n",
    "        self.size = new_capacity\n",
    "        \n",
    "        # copy the content of A to B\n",
    "        for i in range(self.n):\n",
    "            B[i]= self.A[i]\n",
    "            \n",
    "        # reassign A\n",
    "        self.A = B\n",
    "    \n",
    "    def __make_array(self,capacity):\n",
    "        \n",
    "        #creates a C type array(static,referential) with size capacity\n",
    "        return (capacity*ctypes.py_object)()"
   ]
  },
  {
   "cell_type": "code",
   "execution_count": 10,
   "id": "02149c6a",
   "metadata": {},
   "outputs": [],
   "source": [
    "L = Meralist()"
   ]
  },
  {
   "cell_type": "code",
   "execution_count": 11,
   "id": "b6c1a7f2",
   "metadata": {},
   "outputs": [
    {
     "data": {
      "text/plain": [
       "__main__.Meralist"
      ]
     },
     "execution_count": 11,
     "metadata": {},
     "output_type": "execute_result"
    }
   ],
   "source": [
    "type(L)"
   ]
  },
  {
   "cell_type": "code",
   "execution_count": 12,
   "id": "b26c1f9b",
   "metadata": {},
   "outputs": [
    {
     "name": "stdout",
     "output_type": "stream",
     "text": [
      "[]\n"
     ]
    }
   ],
   "source": [
    "print(L)"
   ]
  },
  {
   "cell_type": "code",
   "execution_count": 13,
   "id": "5e4e37d0",
   "metadata": {},
   "outputs": [
    {
     "data": {
      "text/plain": [
       "0"
      ]
     },
     "execution_count": 13,
     "metadata": {},
     "output_type": "execute_result"
    }
   ],
   "source": [
    "len(L)"
   ]
  },
  {
   "cell_type": "code",
   "execution_count": 14,
   "id": "850e462d",
   "metadata": {},
   "outputs": [],
   "source": [
    "L.append(\"Avadhi\")\n",
    "L.append(34)\n",
    "L.append(8.9)\n",
    "L.append(True)"
   ]
  },
  {
   "cell_type": "code",
   "execution_count": 15,
   "id": "a0804506",
   "metadata": {},
   "outputs": [
    {
     "data": {
      "text/plain": [
       "4"
      ]
     },
     "execution_count": 15,
     "metadata": {},
     "output_type": "execute_result"
    }
   ],
   "source": [
    "len(L)"
   ]
  },
  {
   "cell_type": "code",
   "execution_count": 16,
   "id": "742981a5",
   "metadata": {},
   "outputs": [
    {
     "name": "stdout",
     "output_type": "stream",
     "text": [
      "[Avadhi,34,8.9,True]\n"
     ]
    }
   ],
   "source": [
    "print(L)"
   ]
  },
  {
   "cell_type": "code",
   "execution_count": 17,
   "id": "345bf147",
   "metadata": {},
   "outputs": [
    {
     "data": {
      "text/plain": [
       "'Avadhi'"
      ]
     },
     "execution_count": 17,
     "metadata": {},
     "output_type": "execute_result"
    }
   ],
   "source": [
    "L[0]"
   ]
  },
  {
   "cell_type": "code",
   "execution_count": 18,
   "id": "4d3c982c",
   "metadata": {},
   "outputs": [
    {
     "data": {
      "text/plain": [
       "'IndexError - Index out of range'"
      ]
     },
     "execution_count": 18,
     "metadata": {},
     "output_type": "execute_result"
    }
   ],
   "source": [
    "L[10]"
   ]
  },
  {
   "cell_type": "code",
   "execution_count": 19,
   "id": "79c2ec94",
   "metadata": {},
   "outputs": [
    {
     "name": "stdout",
     "output_type": "stream",
     "text": [
      "True\n"
     ]
    }
   ],
   "source": [
    "L.pop()"
   ]
  },
  {
   "cell_type": "code",
   "execution_count": 20,
   "id": "c3621e75",
   "metadata": {},
   "outputs": [
    {
     "name": "stdout",
     "output_type": "stream",
     "text": [
      "[Avadhi,34,8.9]\n"
     ]
    }
   ],
   "source": [
    "print(L)"
   ]
  },
  {
   "cell_type": "code",
   "execution_count": 21,
   "id": "754232d9",
   "metadata": {},
   "outputs": [
    {
     "name": "stdout",
     "output_type": "stream",
     "text": [
      "8.9\n",
      "34\n",
      "Avadhi\n"
     ]
    }
   ],
   "source": [
    "L.pop()\n",
    "L.pop()\n",
    "L.pop()"
   ]
  },
  {
   "cell_type": "code",
   "execution_count": 22,
   "id": "96eb829f",
   "metadata": {},
   "outputs": [
    {
     "data": {
      "text/plain": [
       "'EmptyList'"
      ]
     },
     "execution_count": 22,
     "metadata": {},
     "output_type": "execute_result"
    }
   ],
   "source": [
    "L.pop()"
   ]
  },
  {
   "cell_type": "code",
   "execution_count": 23,
   "id": "76b565a2",
   "metadata": {},
   "outputs": [
    {
     "name": "stdout",
     "output_type": "stream",
     "text": [
      "[]\n"
     ]
    }
   ],
   "source": [
    "print(L)"
   ]
  },
  {
   "cell_type": "code",
   "execution_count": 24,
   "id": "35ec8fd3",
   "metadata": {},
   "outputs": [],
   "source": [
    "L.append(\"Avadhi\")\n",
    "L.append(34)\n",
    "L.append(8.9)\n",
    "L.append(True)"
   ]
  },
  {
   "cell_type": "code",
   "execution_count": 25,
   "id": "9d6b8556",
   "metadata": {},
   "outputs": [
    {
     "name": "stdout",
     "output_type": "stream",
     "text": [
      "[Avadhi,34,8.9,True]\n"
     ]
    }
   ],
   "source": [
    "print(L)"
   ]
  },
  {
   "cell_type": "code",
   "execution_count": 26,
   "id": "e030a7a6",
   "metadata": {},
   "outputs": [],
   "source": [
    "L.clear()"
   ]
  },
  {
   "cell_type": "code",
   "execution_count": 27,
   "id": "65f8160e",
   "metadata": {},
   "outputs": [
    {
     "name": "stdout",
     "output_type": "stream",
     "text": [
      "[]\n"
     ]
    }
   ],
   "source": [
    "print(L)"
   ]
  },
  {
   "cell_type": "code",
   "execution_count": 28,
   "id": "e6aea5af",
   "metadata": {},
   "outputs": [],
   "source": [
    "L.append(\"Avadhi\")\n",
    "L.append(34)\n",
    "L.append(8.9)\n",
    "L.append(True)"
   ]
  },
  {
   "cell_type": "code",
   "execution_count": 29,
   "id": "c0ca45a1",
   "metadata": {},
   "outputs": [
    {
     "name": "stdout",
     "output_type": "stream",
     "text": [
      "0\n",
      "2\n"
     ]
    },
    {
     "data": {
      "text/plain": [
       "'ValueError - value not in list'"
      ]
     },
     "execution_count": 29,
     "metadata": {},
     "output_type": "execute_result"
    }
   ],
   "source": [
    "print(L.find(\"Avadhi\"))\n",
    "print(L.find(8.9))\n",
    "L.find(1000)"
   ]
  },
  {
   "cell_type": "code",
   "execution_count": 30,
   "id": "67e73a54",
   "metadata": {},
   "outputs": [
    {
     "name": "stdout",
     "output_type": "stream",
     "text": [
      "[Avadhi,34,8.9,True]\n"
     ]
    }
   ],
   "source": [
    "print(L)"
   ]
  },
  {
   "cell_type": "code",
   "execution_count": 31,
   "id": "ec00f48b",
   "metadata": {},
   "outputs": [
    {
     "name": "stdout",
     "output_type": "stream",
     "text": [
      "[67,Avadhi,34,8.9,True]\n"
     ]
    }
   ],
   "source": [
    "L.insert(0,67)\n",
    "print(L)"
   ]
  },
  {
   "cell_type": "code",
   "execution_count": 32,
   "id": "b852f9a6",
   "metadata": {},
   "outputs": [
    {
     "name": "stdout",
     "output_type": "stream",
     "text": [
      "[67,Avadhi,34,8.9,True]\n"
     ]
    }
   ],
   "source": [
    "print(L)"
   ]
  },
  {
   "cell_type": "code",
   "execution_count": 33,
   "id": "aa4b77a8",
   "metadata": {},
   "outputs": [],
   "source": [
    "del L[2]"
   ]
  },
  {
   "cell_type": "code",
   "execution_count": 34,
   "id": "5828089b",
   "metadata": {},
   "outputs": [
    {
     "name": "stdout",
     "output_type": "stream",
     "text": [
      "[67,Avadhi,8.9,True]\n"
     ]
    }
   ],
   "source": [
    "print(L)"
   ]
  },
  {
   "cell_type": "code",
   "execution_count": 35,
   "id": "5fe7dfcb",
   "metadata": {},
   "outputs": [
    {
     "name": "stdout",
     "output_type": "stream",
     "text": [
      "[67,Avadhi,8.9,True]\n"
     ]
    }
   ],
   "source": [
    "print(L)"
   ]
  },
  {
   "cell_type": "code",
   "execution_count": 36,
   "id": "875cfea0",
   "metadata": {},
   "outputs": [],
   "source": [
    "del L[3]"
   ]
  },
  {
   "cell_type": "code",
   "execution_count": 37,
   "id": "4b99e0b5",
   "metadata": {},
   "outputs": [
    {
     "name": "stdout",
     "output_type": "stream",
     "text": [
      "[67,Avadhi,8.9]\n"
     ]
    }
   ],
   "source": [
    "print(L)"
   ]
  },
  {
   "cell_type": "code",
   "execution_count": 38,
   "id": "4f083fca",
   "metadata": {},
   "outputs": [
    {
     "data": {
      "text/plain": [
       "'ValueError - value not in list'"
      ]
     },
     "execution_count": 38,
     "metadata": {},
     "output_type": "execute_result"
    }
   ],
   "source": [
    "L.remove(34)"
   ]
  },
  {
   "cell_type": "code",
   "execution_count": 39,
   "id": "8a10f0b7",
   "metadata": {},
   "outputs": [],
   "source": [
    "L.append(1)\n",
    "L.append(61)\n",
    "L.append(145)\n",
    "L.append(9)\n",
    "L.append(2)"
   ]
  },
  {
   "cell_type": "code",
   "execution_count": 40,
   "id": "e53c82de",
   "metadata": {},
   "outputs": [
    {
     "name": "stdout",
     "output_type": "stream",
     "text": [
      "[67,Avadhi,8.9,1,61,145,9,2]\n"
     ]
    }
   ],
   "source": [
    "print(L)"
   ]
  },
  {
   "cell_type": "markdown",
   "id": "13982569",
   "metadata": {},
   "source": [
    "# Linked List Implementation"
   ]
  },
  {
   "cell_type": "code",
   "execution_count": 11,
   "id": "b991d07a",
   "metadata": {},
   "outputs": [],
   "source": [
    "class Node:\n",
    "    def __init__(self,value):\n",
    "        self.data = value\n",
    "        self.next = None\n",
    "\n",
    "class LinkedList:\n",
    "    def __init__(self):\n",
    "        self.head = None\n",
    "        self.n = 0\n",
    "    \n",
    "    def __len__(self):\n",
    "        return self.n\n",
    "        \n",
    "    def insert_head(self,value):\n",
    "        new_node = Node(value)\n",
    "        new_node.next = self.head\n",
    "        self.head = new_node\n",
    "        self.n += 1\n",
    "        \n",
    "    def __str__(self):\n",
    "        curr = self.head\n",
    "        result = ''\n",
    "        while curr != None:\n",
    "            result = result +str(curr.data) + '->'\n",
    "            curr = curr.next\n",
    "        \n",
    "        return result[:-2]\n",
    "    \n",
    "    def append(self,value):\n",
    "        new_node = Node(value)\n",
    "        \n",
    "        if self.head == None:\n",
    "            self.head = new_node\n",
    "            self.n += 1\n",
    "            return\n",
    "        \n",
    "        curr = self.head\n",
    "        while curr.next != None:\n",
    "            curr = curr.next\n",
    "        curr.next = new_node\n",
    "        self.n += 1\n",
    "        \n",
    "    def insert(self,after,value):\n",
    "        new_node = Node(value)\n",
    "        \n",
    "        if self.head == None:\n",
    "            self.head = new_node\n",
    "            self.n += 1\n",
    "            return\n",
    "        \n",
    "        curr = self.head\n",
    "        \n",
    "        while curr != None:\n",
    "            if curr.data == after:\n",
    "                break\n",
    "            curr = curr.next\n",
    "        \n",
    "        if curr != None:\n",
    "            new_node.next = curr.next\n",
    "            curr.next = new_node\n",
    "            self.n += 1\n",
    "        else:\n",
    "            return \"Item Not Found\"\n",
    "        \n",
    "    def clear(self):\n",
    "        self.head = None\n",
    "        self.n = 0\n",
    "        \n",
    "    def delete_head(self):\n",
    "        if self.head == None:\n",
    "            return 'Empty LL'\n",
    "        curr = self.head\n",
    "        self.head = curr.next\n",
    "        self.n -= 1\n",
    "        \n",
    "    def pop(self):\n",
    "        if self.head == None:\n",
    "            return 'Empty LL'\n",
    "        \n",
    "        curr = self.head\n",
    "        \n",
    "        if curr.next == None:\n",
    "            return self.delete_head()\n",
    "        \n",
    "        while curr.next.next != None:\n",
    "            curr = curr.next\n",
    "        \n",
    "        curr.next = None\n",
    "        self.n -= 1\n",
    "        \n",
    "    def remove(self,value):\n",
    "        if self.head == None:\n",
    "            return 'Empty LL'\n",
    "        \n",
    "        curr = self.head\n",
    "        \n",
    "        if curr.next == None:\n",
    "            return self.delete_head()\n",
    "        \n",
    "        while curr.next != None:\n",
    "            if curr.next.data == value:\n",
    "                break\n",
    "            curr = curr.next\n",
    "        \n",
    "        if curr.next == None:\n",
    "            return \"Item not found\"\n",
    "        else:\n",
    "            curr.next = curr.next.next\n",
    "            self.n -= 1    \n",
    "            \n",
    "    def __delitem__(self, index):\n",
    "        if index >= self.n or index < 0:\n",
    "            return \"IndexError\"\n",
    "        \n",
    "        if index == 0:  \n",
    "            self.head = self.head.next\n",
    "        else:\n",
    "            curr = self.head\n",
    "            \n",
    "            for _ in range(index - 1):\n",
    "                curr = curr.next\n",
    "        \n",
    "            curr.next = curr.next.next  \n",
    "    \n",
    "            self.n -= 1 \n",
    "\n",
    "        return 'IndexError'\n",
    "            \n",
    "    def search(self,item):\n",
    "        curr = self.head\n",
    "        pos = 0\n",
    "        \n",
    "        while curr != None:\n",
    "            if curr.data == item:\n",
    "                return pos\n",
    "            curr = curr.next\n",
    "            pos = pos + 1\n",
    "            \n",
    "        return 'Not Found'\n",
    "    \n",
    "    def __getitem__(self,index):\n",
    "        curr = self.head\n",
    "        pos = 0\n",
    "\n",
    "        while curr != None:\n",
    "            if pos == index:\n",
    "                return curr.data\n",
    "            curr = curr.next\n",
    "            pos = pos + 1\n",
    "\n",
    "        return 'IndexError'\n",
    "    \n",
    "    #We are given a value and we have to find maximum value from our linked-list and replace the max value with given value\n",
    "    \n",
    "    def replace_max(self,value):\n",
    "        curr = self.head\n",
    "        maximum = curr\n",
    "        \n",
    "        while curr!=None:\n",
    "            if curr.data > maximum.data:\n",
    "                maximum = curr\n",
    "            curr = curr.next\n",
    "        \n",
    "        maximum.data = value\n",
    "        \n",
    "    # And values at the odd positions(indices) of the linked-list and return sum\n",
    "    \n",
    "    def sum_odd_nodes(self):\n",
    "        temp =self.head\n",
    "        result = 0\n",
    "        counter=0\n",
    "        \n",
    "        while temp != None:\n",
    "            if counter%2==0:\n",
    "                result += temp.data\n",
    "            counter += 1\n",
    "            temp = temp.next\n",
    "            \n",
    "        print(result)\n",
    "        \n",
    "   # Reversing a linked list containing integer data (Condition: You cannot create a new linked list)\n",
    "  \n",
    "    def reverse_list(self):\n",
    "        \n",
    "        prev_node = None\n",
    "        curr_node = self.head\n",
    "        \n",
    "        while curr_node != None:\n",
    "            next_node = curr_node.next\n",
    "            curr_node.next = prev_node\n",
    "            prev_node = curr_node\n",
    "            curr_node = next_node\n",
    "            \n",
    "        self.head = prev_node\n",
    "            \n",
    "            \n",
    "        "
   ]
  },
  {
   "cell_type": "code",
   "execution_count": 12,
   "id": "67f52465",
   "metadata": {},
   "outputs": [],
   "source": [
    "L = LinkedList()\n"
   ]
  },
  {
   "cell_type": "code",
   "execution_count": 13,
   "id": "db099773",
   "metadata": {},
   "outputs": [],
   "source": [
    "L.insert_head(1)\n",
    "L.insert_head(2)\n",
    "L.insert_head(3)\n",
    "L.insert_head(4)"
   ]
  },
  {
   "cell_type": "code",
   "execution_count": 14,
   "id": "16f000ea",
   "metadata": {},
   "outputs": [
    {
     "name": "stdout",
     "output_type": "stream",
     "text": [
      "4\n",
      "4->3->2->1\n"
     ]
    }
   ],
   "source": [
    "print(len(L))\n",
    "\n",
    "print(L)"
   ]
  },
  {
   "cell_type": "code",
   "execution_count": 50,
   "id": "2a6428e4",
   "metadata": {},
   "outputs": [],
   "source": [
    "L.append(5)"
   ]
  },
  {
   "cell_type": "code",
   "execution_count": 51,
   "id": "0d746d02",
   "metadata": {},
   "outputs": [
    {
     "name": "stdout",
     "output_type": "stream",
     "text": [
      "4->3->2->1->5\n"
     ]
    }
   ],
   "source": [
    "print(L)"
   ]
  },
  {
   "cell_type": "code",
   "execution_count": 52,
   "id": "8396b755",
   "metadata": {},
   "outputs": [
    {
     "data": {
      "text/plain": [
       "'Item Not Found'"
      ]
     },
     "execution_count": 52,
     "metadata": {},
     "output_type": "execute_result"
    }
   ],
   "source": [
    "L.insert(200,100)"
   ]
  },
  {
   "cell_type": "code",
   "execution_count": 54,
   "id": "5d16202e",
   "metadata": {},
   "outputs": [],
   "source": [
    "L.insert(2,500)"
   ]
  },
  {
   "cell_type": "code",
   "execution_count": 32,
   "id": "1dbe3d81",
   "metadata": {},
   "outputs": [],
   "source": [
    "L.delete_head()"
   ]
  },
  {
   "cell_type": "code",
   "execution_count": 56,
   "id": "625ec2c5",
   "metadata": {},
   "outputs": [],
   "source": [
    "L.pop()"
   ]
  },
  {
   "cell_type": "code",
   "execution_count": 59,
   "id": "479f7633",
   "metadata": {},
   "outputs": [
    {
     "name": "stdout",
     "output_type": "stream",
     "text": [
      "4->3->2->1\n"
     ]
    }
   ],
   "source": [
    "print(L)"
   ]
  },
  {
   "cell_type": "code",
   "execution_count": 58,
   "id": "f3b4b588",
   "metadata": {},
   "outputs": [],
   "source": [
    "L.remove(500)"
   ]
  },
  {
   "cell_type": "code",
   "execution_count": 65,
   "id": "b4c48763",
   "metadata": {},
   "outputs": [
    {
     "data": {
      "text/plain": [
       "'Not Found'"
      ]
     },
     "execution_count": 65,
     "metadata": {},
     "output_type": "execute_result"
    }
   ],
   "source": [
    "L.search(89)"
   ]
  },
  {
   "cell_type": "code",
   "execution_count": 71,
   "id": "7d43ecb9",
   "metadata": {},
   "outputs": [
    {
     "data": {
      "text/plain": [
       "4"
      ]
     },
     "execution_count": 71,
     "metadata": {},
     "output_type": "execute_result"
    }
   ],
   "source": [
    "L[0]"
   ]
  },
  {
   "cell_type": "code",
   "execution_count": 108,
   "id": "9c02b19d",
   "metadata": {},
   "outputs": [],
   "source": [
    "del L[2]"
   ]
  },
  {
   "cell_type": "code",
   "execution_count": 109,
   "id": "85318041",
   "metadata": {},
   "outputs": [
    {
     "name": "stdout",
     "output_type": "stream",
     "text": [
      "4->3->1\n"
     ]
    }
   ],
   "source": [
    "print(L)"
   ]
  },
  {
   "cell_type": "code",
   "execution_count": 5,
   "id": "b9cb2a8d",
   "metadata": {},
   "outputs": [],
   "source": [
    "L.replace_max(12)"
   ]
  },
  {
   "cell_type": "code",
   "execution_count": 6,
   "id": "04027083",
   "metadata": {},
   "outputs": [
    {
     "name": "stdout",
     "output_type": "stream",
     "text": [
      "12->3->2->1\n"
     ]
    }
   ],
   "source": [
    "print(L)"
   ]
  },
  {
   "cell_type": "code",
   "execution_count": 10,
   "id": "4fef76b9",
   "metadata": {},
   "outputs": [
    {
     "name": "stdout",
     "output_type": "stream",
     "text": [
      "6\n"
     ]
    }
   ],
   "source": [
    "L.sum_odd_nodes()"
   ]
  },
  {
   "cell_type": "code",
   "execution_count": 15,
   "id": "7d7a2801",
   "metadata": {},
   "outputs": [],
   "source": [
    "L.reverse_list()"
   ]
  },
  {
   "cell_type": "code",
   "execution_count": 16,
   "id": "4cca62c5",
   "metadata": {},
   "outputs": [
    {
     "name": "stdout",
     "output_type": "stream",
     "text": [
      "1->2->3->4\n"
     ]
    }
   ],
   "source": [
    "print(L)"
   ]
  }
 ],
 "metadata": {
  "kernelspec": {
   "display_name": "Python 3 (ipykernel)",
   "language": "python",
   "name": "python3"
  },
  "language_info": {
   "codemirror_mode": {
    "name": "ipython",
    "version": 3
   },
   "file_extension": ".py",
   "mimetype": "text/x-python",
   "name": "python",
   "nbconvert_exporter": "python",
   "pygments_lexer": "ipython3",
   "version": "3.12.2"
  }
 },
 "nbformat": 4,
 "nbformat_minor": 5
}
